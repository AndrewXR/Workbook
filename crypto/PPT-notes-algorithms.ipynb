{
 "cells": [
  {
   "cell_type": "code",
   "execution_count": 34,
   "metadata": {},
   "outputs": [
    {
     "name": "stdout",
     "output_type": "stream",
     "text": [
      "0 : 1 0 0 False\n",
      "false\n"
     ]
    },
    {
     "data": {
      "text/plain": [
       "False"
      ]
     },
     "execution_count": 34,
     "metadata": {},
     "output_type": "execute_result"
    }
   ],
   "source": [
    "def is_natural(N):\n",
    "    \"\"\"\n",
    "    N is a list of binary\n",
    "    \"\"\"\n",
    "    t1 = False\n",
    "    t2 = False\n",
    "    for n in N:\n",
    "        if not t1:\n",
    "            t1 = True\n",
    "        else:\n",
    "            t2 = True\n",
    "        if n !=0 and n!= 1:\n",
    "            return False\n",
    "        last_n = n\n",
    "    if t1:\n",
    "        return (not t2) or (last_n==1)\n",
    "    # reject the empty string\n",
    "    return False\n",
    "\n",
    "def test_is_natural():\n",
    "    for i in range(2):\n",
    "        print(i, is_natural([i]))\n",
    "        for j in range(2):\n",
    "            print(i,j, is_natural([i,j]))\n",
    "            for k in range(2):\n",
    "                print(i,j,k,is_natural([i,j,k]))\n",
    "\n",
    "def extend_longer(D,E,F):\n",
    "    dz = [0]\n",
    "    for d in D:\n",
    "        dz += [0]\n",
    "    ez = [0]\n",
    "    for e in E:\n",
    "        ez += [0]\n",
    "    fz = [0]\n",
    "    for f in F:\n",
    "        fz += [0]\n",
    "    return (D+ez+fz,E+dz+fz,F+dz+ez)\n",
    "\n",
    "def is_sum(D,E,F):\n",
    "    \"\"\"\n",
    "    D, E and F are integers as  0,1\n",
    "    \"\"\"\n",
    "    addition_rules = {(0,0,0,False),(1,1,0,False),(1,0,1,False),(1,0,0,True),\n",
    "                     (0,1,1,False),(0,1,0,True),(0,0,1,True), (1,1,1,True)}\n",
    "    carry_rules = { (0,1,True), (1,0,True), (1,1,False), (1,1,True) }\n",
    "    if not all([is_natural(D),\n",
    "               is_natural(E), is_natural(F)]):\n",
    "        return False\n",
    "    carry = False\n",
    "    D, E, F = extend_longer(D,E,F)\n",
    "    i = 0\n",
    "    for d, e, f in zip( D, E, F):\n",
    "        print(i,\":\",d,e,f,carry)\n",
    "        if (d,e,f,carry) not in addition_rules:\n",
    "            print(\"false\")\n",
    "            return False\n",
    "        else:\n",
    "            carry = (e,f,carry) in carry_rules\n",
    "        i +=1\n",
    "    return True\n",
    "\n",
    "#test_is_natural()\n",
    "is_sum([)\n",
    "       ],[0],[0])\n"
   ]
  },
  {
   "cell_type": "code",
   "execution_count": null,
   "metadata": {},
   "outputs": [],
   "source": []
  }
 ],
 "metadata": {
  "kernelspec": {
   "display_name": "Python 3",
   "language": "python",
   "name": "python3"
  },
  "language_info": {
   "codemirror_mode": {
    "name": "ipython",
    "version": 3
   },
   "file_extension": ".py",
   "mimetype": "text/x-python",
   "name": "python",
   "nbconvert_exporter": "python",
   "pygments_lexer": "ipython3",
   "version": "3.6.4"
  }
 },
 "nbformat": 4,
 "nbformat_minor": 2
}
