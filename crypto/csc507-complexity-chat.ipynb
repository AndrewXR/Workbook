{
 "cells": [
  {
   "cell_type": "markdown",
   "metadata": {},
   "source": [
    "## Complexity Theory\n",
    "\n",
    "### The equivalence of sorting and the sort predicate\n",
    "\n",
    "*burton rosenberg*\n",
    "<br>\n",
    "*september 14, 2019*\n",
    "\n",
    "Complexity theory takes as the generic question in computation \n",
    "the decision of membership in a set. The set is called a language.\n",
    "\n",
    "A question such as sorting could be set up as a language using\n",
    "Python synax, as a pair of lists. Such a pair is in the language\n",
    "of sorting if the second list is a sorted version of the first.\n",
    "For instance,\n",
    "<pre>\n",
    "([3,4,1,0],[0,1,3,4])\n",
    "</pre>\n",
    "is in the language of sorting but,\n",
    "<pre>\n",
    "([3,2,4],[1,2])\n",
    "</pre>\n",
    "is not.\n",
    "\n",
    "This might seem to be too restricted a notion of computing. \n",
    "Computation should include the act of sorting, not just recognizing\n",
    "when something is sorted. However, sorting can be reduced to \n",
    "the sort predicate. Considering the sort predicate as an oracle,\n",
    "that answers membership queries, a computation can be built around\n",
    "the oracle to sort. \n",
    "\n",
    "Therefore, if we can recognize the sorting \n",
    "language we can sort; and furthermore, we can express a time bound\n",
    "for sorting as a function of input size and the number of calls to the oracle.\n",
    "\n",
    "\n"
   ]
  },
  {
   "cell_type": "code",
   "execution_count": 37,
   "metadata": {},
   "outputs": [
    {
     "data": {
      "text/plain": [
       "True"
      ]
     },
     "execution_count": 37,
     "metadata": {},
     "output_type": "execute_result"
    }
   ],
   "source": [
    "import random\n",
    "\n",
    "\n",
    "def sort_oracle(x,y):\n",
    "    \"\"\"\n",
    "    the oracle for the language of sorting.\n",
    "        returns True (is an element) \n",
    "            if y is a sorted version of x\n",
    "        else returns False\n",
    "    \"\"\"\n",
    "    return sorted(x)==y\n",
    "\n",
    "\n",
    "def sort_reduced_to_oracle(x):\n",
    "    \"\"\"\n",
    "    reducing sorting to the sorting oracle\n",
    "    calls to sort_oracle are used in the\n",
    "        structure of insertion sort to carry out\n",
    "        the sort with a polynomial time overhead\n",
    "        in the length of the input\n",
    "    \"\"\"\n",
    "    x_srt = []\n",
    "    y = []\n",
    "    for x_ele in x:\n",
    "        x_srt.append(x_ele)\n",
    "        y.append(x_ele)\n",
    "        i = len(x_srt)-1\n",
    "        while not sort_oracle(y,x_srt):\n",
    "            x_srt[i-1], x_srt[i] = x_srt[i], x_srt[i-1]\n",
    "            i -= 1\n",
    "    return x_srt\n",
    "\n",
    "def test_sorting(n,t):\n",
    "    x = [i for i in range(n)]\n",
    "    for i in range(t):\n",
    "        random.shuffle(x)\n",
    "        y = sort_reduced_to_oracle(x)\n",
    "        if not sort_oracle(x,y):\n",
    "            return False\n",
    "    return True\n",
    "        \n",
    "test_sorting(10,100)\n",
    "    "
   ]
  },
  {
   "cell_type": "markdown",
   "metadata": {},
   "source": [
    "### The language of primes\n",
    "\n",
    "From the set of representations of natural numbers, the subset of those that \n",
    "represent a prime is the language of the primes. We need representations, rather\n",
    "than just saying numbers, because we need to measure the size of a number, as\n",
    "the length of a string identifying the number. So the size of 143, for the purposes\n",
    "of complexity, is 3, is it takes three symbols to represent it.\n",
    "\n",
    "Membership for primes can use the Little Fermat theorem, that gives a fact about\n",
    "all primes that is not true for non-primes. We then test the number at random\n",
    "points to experimentally of the fact is true. All primes will pass the test.\n",
    "While the fact is not true for composites, there is only a possiblity that a single\n",
    "test will show this. Repeated independent trials make it unlikely that the fact\n",
    "is not found false for a composite.\n",
    "\n",
    "A certain set of numbers, the Carmichael numbers, can evade detection as composites\n",
    "so well that we will consider prime membership only for the subset of the natural\n",
    "numbers that are not Carmichael numbers.\n",
    "\n",
    "Primality is an example of a co-RP language, one for which non-membership is probably \n",
    "reported, but membership is certainly reported. If we are wrong, it is for non-membership,\n",
    "which means a composite might be classified as a prime.\n",
    "\n",
    "\n",
    "\n"
   ]
  },
  {
   "cell_type": "code",
   "execution_count": 38,
   "metadata": {},
   "outputs": [
    {
     "name": "stdout",
     "output_type": "stream",
     "text": [
      "29341 carmichael number passes test, reports prime\n",
      "46657 carmichael number passes test, reports prime\n",
      "2 errors\n"
     ]
    }
   ],
   "source": [
    "import random\n",
    "\n",
    "def little_fermat(w,n):\n",
    "    \"\"\"\n",
    "    If n is a prime, and w is not zero, and not divisible by n,\n",
    "    then Fermat's Little theorem will assure the result True.\n",
    "    Except for Carmichael numbers, a random w will likely\n",
    "    return False.\n",
    "    \"\"\"\n",
    "    return pow(w,n-1,n)==1\n",
    "\n",
    "def miller_test(n,t):\n",
    "    \"\"\"\n",
    "    returns False when a witness for non-primality is found.\n",
    "    failure to find a witness returns true and the number is\n",
    "    likely to be a prime.\n",
    "    \"\"\"\n",
    "    for i in range(t):\n",
    "        w = random.randint(2,n-1)\n",
    "        if not little_fermat(w,n):\n",
    "            return False\n",
    "    return True\n",
    "\n",
    "\n",
    "def test_miller():\n",
    "    primes = [3,5,7,11,13,191, 193, 197,90529,90533,90547,104479,104491,104513]\n",
    "    composites = [random.randint(100,10000000)*random.randint(100,10000000) for i in range(20)]\n",
    "    carmichael_numbers = [561, 1105, 1729, 2465, 2821, 6601, 8911, \n",
    "                          10585, 15841, 29341, 41041, 46657, 52633, 62745, 63973]\n",
    "    err = 0\n",
    "    for p in primes:\n",
    "        if not miller_test(p,10):\n",
    "            print(\"is a prime, miller says it is composite\")\n",
    "            assert(1==0) # little fermat says this cannot happen\n",
    "    for c in composites:\n",
    "        if miller_test(c,10):\n",
    "            print(c, \"is a composite, miller says it is prime\")\n",
    "            err += 1\n",
    "            # a witness was not found for a composite\n",
    "    for cn in carmichael_numbers:\n",
    "        if miller_test(cn,10):\n",
    "            print(cn, \"carmichael number passes test, reports prime\")\n",
    "            err += 1\n",
    "    if (err>0):\n",
    "        print(err,\"errors\")\n",
    "    else:\n",
    "        print(\"no errors\")\n",
    "\n",
    "test_miller()"
   ]
  },
  {
   "cell_type": "markdown",
   "metadata": {},
   "source": [
    "End of file\n"
   ]
  }
 ],
 "metadata": {
  "kernelspec": {
   "display_name": "Python 3",
   "language": "python",
   "name": "python3"
  },
  "language_info": {
   "codemirror_mode": {
    "name": "ipython",
    "version": 3
   },
   "file_extension": ".py",
   "mimetype": "text/x-python",
   "name": "python",
   "nbconvert_exporter": "python",
   "pygments_lexer": "ipython3",
   "version": "3.6.4"
  }
 },
 "nbformat": 4,
 "nbformat_minor": 2
}
