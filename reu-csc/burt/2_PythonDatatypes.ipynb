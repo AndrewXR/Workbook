{
 "cells": [
  {
   "cell_type": "markdown",
   "metadata": {},
   "source": [
    "# Python datatypes and objects\n",
    "**Burton Rosenberg, May 2017**\n",
    "\n",
    "In Python, everything is an object. Objects have classes, and objects are instances of objects of their class. Some objects are _immutable_, others not. Objects are complex data structures that have _properties_ and _methods_. The class of an object exists in a hierarchy of classes, where subclasses unherit from superclasses. The ultimate super class of all objectsis an object of type _object_.\n",
    "\n",
    "Pythons allows for _introspection_ of an object. The program can learn the methods, properties, and class of an object by invoking functions on the object. Among these are the id function, returning an identifier of that object instance, the dir function, returning a list of method names implemented by the object, the type function, returning the name of the precise class of the objet. The super function applied to a type gives the exact supetype of that type.\n",
    "\n",
    "Certain objects share a base class, and provide a standard behavoir by implementing a standard method. The iter method is shared by all objects that support iteration. The iter method returns an iteration object with a next method, and an exception. Iteration constructs of the Python language apply to any object implementing these methods.\n",
    "\n",
    "## Primitive types\n",
    "\n",
    "Primitive types, such as integers, are a type, and each instance is an immutable value for that type. For instance:\n",
    "\n",
    "\n",
    "\n",
    "\n"
   ]
  },
  {
   "cell_type": "code",
   "execution_count": 6,
   "metadata": {
    "collapsed": false
   },
   "outputs": [
    {
     "name": "stdout",
     "output_type": "stream",
     "text": [
      "type: <type 'int'>\n",
      "id: 140362799659912\n",
      "implements: ['__abs__', '__add__', '__and__', '__class__', '__cmp__', '__coerce__', '__delattr__', '__div__', '__divmod__', '__doc__', '__float__', '__floordiv__', '__format__', '__getattribute__', '__getnewargs__', '__hash__', '__hex__', '__index__', '__init__', '__int__', '__invert__', '__long__', '__lshift__', '__mod__', '__mul__', '__neg__', '__new__', '__nonzero__', '__oct__', '__or__', '__pos__', '__pow__', '__radd__', '__rand__', '__rdiv__', '__rdivmod__', '__reduce__', '__reduce_ex__', '__repr__', '__rfloordiv__', '__rlshift__', '__rmod__', '__rmul__', '__ror__', '__rpow__', '__rrshift__', '__rshift__', '__rsub__', '__rtruediv__', '__rxor__', '__setattr__', '__sizeof__', '__str__', '__sub__', '__subclasshook__', '__truediv__', '__trunc__', '__xor__', 'bit_length', 'conjugate', 'denominator', 'imag', 'numerator', 'real']\n"
     ]
    }
   ],
   "source": [
    "a = 1 ;\n",
    "print \"type:\",type(a) ;\n",
    "print \"id:\", id(a) ;\n",
    "print \"implements:\", dir(a) ;"
   ]
  },
  {
   "cell_type": "markdown",
   "metadata": {},
   "source": [
    "In this case, there is exatly one instance for each integer value, no matter how that value is achieved. And the instance is immutable. The value of 1 cannot be changed."
   ]
  },
  {
   "cell_type": "code",
   "execution_count": 10,
   "metadata": {
    "collapsed": false
   },
   "outputs": [
    {
     "name": "stdout",
     "output_type": "stream",
     "text": [
      "True\n",
      "True\n"
     ]
    }
   ],
   "source": [
    "print id(2)==id(1+1) ;\n",
    "print id(2)==id(4/2) ;"
   ]
  },
  {
   "cell_type": "markdown",
   "metadata": {},
   "source": [
    "Other primitive types with immutable instances, representing values, are the type of booleans with exactly two values, True and False, and the type of none, with eactly one value, None."
   ]
  },
  {
   "cell_type": "code",
   "execution_count": 27,
   "metadata": {
    "collapsed": false
   },
   "outputs": [
    {
     "name": "stdout",
     "output_type": "stream",
     "text": [
      "We hold these truths to be self-evident: True True True\n"
     ]
    }
   ],
   "source": [
    "print \"We hold these truths to be self-evident:\", ;\n",
    "print isinstance(True, type(True)),  ;\n",
    "print isinstance(1,type(1)), ;\n",
    "print isinstance(None,type(None))"
   ]
  },
  {
   "cell_type": "markdown",
   "metadata": {},
   "source": [
    "## Sequence types (immutable)\n",
    "\n",
    "Sequence types are made of multiple data items, in a sequence. The most common are strings, lists, and tuples. \n",
    "\n",
    "Strings and tuples are immutable, and equal objets as value need not be equal ojbects as objects."
   ]
  },
  {
   "cell_type": "code",
   "execution_count": 1,
   "metadata": {
    "collapsed": false
   },
   "outputs": [
    {
     "name": "stdout",
     "output_type": "stream",
     "text": [
      "False True\n",
      "False True\n"
     ]
    }
   ],
   "source": [
    "a = \"hello world\" ;\n",
    "b = \"hello world\" ;\n",
    "print id(a)==id(b), a==b ;\n",
    "x = (1,2,3) ;\n",
    "y = (1,2,3) ;\n",
    "print id(x)==id(y), x==y ;\n"
   ]
  },
  {
   "cell_type": "markdown",
   "metadata": {},
   "source": [
    "\n",
    "Sequence types extend the abstract base class Iterator by implementing a call the returns an iterator for the object. That iterator responds to next messages with the next element in the sequence or throws a StopIteration exception when the sequence has  been exhausted. For statements use this method to allow programtic iteration.\n"
   ]
  },
  {
   "cell_type": "code",
   "execution_count": 55,
   "metadata": {
    "collapsed": false
   },
   "outputs": [
    {
     "name": "stdout",
     "output_type": "stream",
     "text": [
      "We hold these truths to be self-evident: True True\n"
     ]
    }
   ],
   "source": [
    "j = 0 ; k = 0 ;\n",
    "s = \"hello\" ;\n",
    "r = (5,4,3,2,1) ;\n",
    "for i in s:\n",
    "    j += 1 ;\n",
    "for i in r :\n",
    "    k += 1 ;\n",
    "print \"We hold these truths to be self-evident:\", ;\n",
    "print (len(s)==j) , (len(r)==k) ;\n"
   ]
  },
  {
   "cell_type": "markdown",
   "metadata": {},
   "source": [
    "Seqence types also support _slices_. "
   ]
  },
  {
   "cell_type": "code",
   "execution_count": 96,
   "metadata": {
    "collapsed": false
   },
   "outputs": [
    {
     "name": "stdout",
     "output_type": "stream",
     "text": [
      "1 2 3\n"
     ]
    }
   ],
   "source": [
    "t = (1,2,3)\n",
    "three,two,one = t[-1::-1]\n",
    "print one, two, three"
   ]
  },
  {
   "cell_type": "markdown",
   "metadata": {},
   "source": [
    "## Mutable sequence types\n",
    "\n",
    "The list and dictionary are mutable sequence types. The support slices and iteration as do the immutable sequence types. However, parts of the data structure can be reassigned. In cases when a mutable sequence is copied, the it is a _shallow copy_. While the copy gets a new identifier, the elements of list share identifiers among the copies.\n",
    "\n"
   ]
  },
  {
   "cell_type": "code",
   "execution_count": 115,
   "metadata": {
    "collapsed": false
   },
   "outputs": [
    {
     "name": "stdout",
     "output_type": "stream",
     "text": [
      "True False\n",
      "[1, 2, ['b']] [1, 'a', ['b']]\n",
      "roses are red\n",
      "sugar are sweet\n",
      "so are you\n",
      "violets are blue\n"
     ]
    }
   ],
   "source": [
    "q = [1,2,[3]]\n",
    "r = q[:] # slice covers entire list\n",
    "print r==q, id(r)==id(q) # equality is semantic\n",
    "r[1]='a' # change is not shared\n",
    "r[2][0]='b' # change is shared\n",
    "print q, r\n",
    "\n",
    "poem = { 'roses':'red', 'violets':'blue', 'sugar':'sweet', 'so':'you'}\n",
    "for i in poem:\n",
    "    print i,\"are\",poem[i]"
   ]
  },
  {
   "cell_type": "markdown",
   "metadata": {},
   "source": [
    "Python has some unusual constuctions. Call them alternative uses for the else clause. In a for loop, the else clause runs if the for loop runs to completion. If the iteration runs to completion, it throws a StopIteration exception when next attempts to access the beyond-last element. The else clause acts like the catch for that exception, and is run. It is not run if the for loop exits otherwise."
   ]
  },
  {
   "cell_type": "code",
   "execution_count": 126,
   "metadata": {
    "collapsed": false
   },
   "outputs": [
    {
     "name": "stdout",
     "output_type": "stream",
     "text": [
      "no evens\n",
      "some evens\n"
     ]
    }
   ],
   "source": [
    "def F(x):\n",
    "    q = \"some\"\n",
    "    for i in a :\n",
    "        if i%2 == 0 : \n",
    "            break\n",
    "    else:\n",
    "        q = \"no\"\n",
    "    print q, \"evens\"\n",
    "\n",
    "a = [2*i+1 for i in range(3)]  # list comprehension, builds lists\n",
    "F(a)\n",
    "a[2] -= 1\n",
    "F(a)\n"
   ]
  },
  {
   "cell_type": "code",
   "execution_count": 2,
   "metadata": {
    "collapsed": false
   },
   "outputs": [
    {
     "data": {
      "text/plain": [
       "['__add__',\n",
       " '__class__',\n",
       " '__contains__',\n",
       " '__delattr__',\n",
       " '__doc__',\n",
       " '__eq__',\n",
       " '__format__',\n",
       " '__ge__',\n",
       " '__getattribute__',\n",
       " '__getitem__',\n",
       " '__getnewargs__',\n",
       " '__getslice__',\n",
       " '__gt__',\n",
       " '__hash__',\n",
       " '__init__',\n",
       " '__le__',\n",
       " '__len__',\n",
       " '__lt__',\n",
       " '__mod__',\n",
       " '__mul__',\n",
       " '__ne__',\n",
       " '__new__',\n",
       " '__reduce__',\n",
       " '__reduce_ex__',\n",
       " '__repr__',\n",
       " '__rmod__',\n",
       " '__rmul__',\n",
       " '__setattr__',\n",
       " '__sizeof__',\n",
       " '__str__',\n",
       " '__subclasshook__',\n",
       " '_formatter_field_name_split',\n",
       " '_formatter_parser',\n",
       " 'capitalize',\n",
       " 'center',\n",
       " 'count',\n",
       " 'decode',\n",
       " 'encode',\n",
       " 'endswith',\n",
       " 'expandtabs',\n",
       " 'find',\n",
       " 'format',\n",
       " 'index',\n",
       " 'isalnum',\n",
       " 'isalpha',\n",
       " 'isdigit',\n",
       " 'islower',\n",
       " 'isspace',\n",
       " 'istitle',\n",
       " 'isupper',\n",
       " 'join',\n",
       " 'ljust',\n",
       " 'lower',\n",
       " 'lstrip',\n",
       " 'partition',\n",
       " 'replace',\n",
       " 'rfind',\n",
       " 'rindex',\n",
       " 'rjust',\n",
       " 'rpartition',\n",
       " 'rsplit',\n",
       " 'rstrip',\n",
       " 'split',\n",
       " 'splitlines',\n",
       " 'startswith',\n",
       " 'strip',\n",
       " 'swapcase',\n",
       " 'title',\n",
       " 'translate',\n",
       " 'upper',\n",
       " 'zfill']"
      ]
     },
     "execution_count": 2,
     "metadata": {},
     "output_type": "execute_result"
    }
   ],
   "source": [
    "dir(\"abc\")"
   ]
  },
  {
   "cell_type": "code",
   "execution_count": null,
   "metadata": {
    "collapsed": true
   },
   "outputs": [],
   "source": []
  }
 ],
 "metadata": {
  "kernelspec": {
   "display_name": "Python 2",
   "language": "python",
   "name": "python2"
  },
  "language_info": {
   "codemirror_mode": {
    "name": "ipython",
    "version": 2
   },
   "file_extension": ".py",
   "mimetype": "text/x-python",
   "name": "python",
   "nbconvert_exporter": "python",
   "pygments_lexer": "ipython2",
   "version": "2.7.13"
  }
 },
 "nbformat": 4,
 "nbformat_minor": 2
}
