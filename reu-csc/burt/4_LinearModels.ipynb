{
 "cells": [
  {
   "cell_type": "markdown",
   "metadata": {},
   "source": [
    "# Linear Models\n",
    "**Burton Rosenberg, May 2017**\n",
    "\n",
    "This is a notebook exploring very simple linear models. It is inspired by the example found among the pages of [scipy-lectures.org](http://www.scipy-lectures.org/packages/statistics/index.html#a-simple-linear-regression).\n",
    "\n",
    "### Initialize workspace and variables\n",
    "\n",
    "When working in the Jupyter notebook, there are a couple of Jupyter-magic commands to load libraries and set options of graphing. Then we import into the python namespace the needed modules.\n"
   ]
  },
  {
   "cell_type": "code",
   "execution_count": 99,
   "metadata": {},
   "outputs": [],
   "source": [
    "# %pylab\n",
    "%matplotlib inline\n",
    "\n",
    "\n",
    "import numpy as np\n",
    "import matplotlib.pyplot as plt\n",
    "import pandas\n",
    "from statsmodels.formula.api import ols\n"
   ]
  },
  {
   "cell_type": "markdown",
   "metadata": {},
   "source": [
    "We put all \"constant\" variables at the beginning of the code, so that we can change them, and also to give them names, helping to explain the code. We set up a function for the linear model.\n",
    "\n",
    "We will run an experiment by perturbing with noise from the function named f. The linear fit to the data give slope, intercept pair that should approximate the parameters of f. They are, however, random variables drawn over the event space of the random noise. For each experiment we get a linear function g, think of it as $g_i(x)$ for experiment $i$.\n",
    "\n",
    "The code reflects this by using the _lambda_ syntax of python to define a function g, which takes two variables, the slode and intercept, and returns a function! The returned function is a linear function. \n",
    "\n",
    "The inner lambda as three variables: x, m and b; x is bound, and m and b are free. However this lambda is defined where m and b are bound in the outer lambda. Even though the inner lambda is returned to outside the scope of the inner lambda, the binding remains. Hence when the inner lambda is eventually evaluated, the m and b are the value given when the inner lambda was defined. This is called [function currying](https://en.wikipedia.org/wiki/Currying). \n"
   ]
  },
  {
   "cell_type": "code",
   "execution_count": 100,
   "metadata": {},
   "outputs": [
    {
     "name": "stdout",
     "output_type": "stream",
     "text": [
      "A linear function of slope 3.000000 and intercept -5.000000 evaluated at 0.750000:\n",
      "\t-2.75\n",
      "\t-2.75\n"
     ]
    }
   ],
   "source": [
    "\n",
    "line_slope = 3\n",
    "line_intercept = -5\n",
    "noise_scaling = 4\n",
    "x_min = -5\n",
    "x_max = 5\n",
    "np.random.seed(1)\n",
    "n_experiments = 7\n",
    "\n",
    "# the truth\n",
    "def f(x):\n",
    "    return line_slope*x+line_intercept\n",
    "\n",
    "# g is a function on RxR returning a function R->R\n",
    "g = lambda m,b : (lambda x : m*x + b)\n",
    "\n",
    "print \"A linear function of slope %f and intercept %f evaluated at %f:\"%(line_slope,line_intercept,.75)\n",
    "print \"\\t\", f(.75)\n",
    "print \"\\t\", g(line_slope,line_intercept)(.75)\n"
   ]
  },
  {
   "cell_type": "markdown",
   "metadata": {},
   "source": [
    "### The experiment\n",
    "\n",
    "We sample a normal distribution and apply it to samples of the function f, giving an experiment sampling f in the presence of noise. Panda and statsmodels are used to curve fit by a linear model the experiment. The resulting models are placed in a numpy array for further analysis.\n",
    "\n"
   ]
  },
  {
   "cell_type": "code",
   "execution_count": 101,
   "metadata": {},
   "outputs": [
    {
     "name": "stdout",
     "output_type": "stream",
     "text": [
      "                            OLS Regression Results                            \n",
      "==============================================================================\n",
      "Dep. Variable:                      y   R-squared:                       0.815\n",
      "Model:                            OLS   Adj. R-squared:                  0.804\n",
      "Method:                 Least Squares   F-statistic:                     79.04\n",
      "Date:                Sun, 21 May 2017   Prob (F-statistic):           5.28e-08\n",
      "Time:                        13:44:01   Log-Likelihood:                -56.502\n",
      "No. Observations:                  20   AIC:                             117.0\n",
      "Df Residuals:                      18   BIC:                             119.0\n",
      "Df Model:                           1                                         \n",
      "Covariance Type:            nonrobust                                         \n",
      "==============================================================================\n",
      "                 coef    std err          t      P>|t|      [0.025      0.975]\n",
      "------------------------------------------------------------------------------\n",
      "Intercept     -4.5243      0.962     -4.704      0.000      -6.545      -2.504\n",
      "x              2.8173      0.317      8.891      0.000       2.152       3.483\n",
      "==============================================================================\n",
      "Omnibus:                        1.250   Durbin-Watson:                   2.558\n",
      "Prob(Omnibus):                  0.535   Jarque-Bera (JB):                0.956\n",
      "Skew:                          -0.266   Prob(JB):                        0.620\n",
      "Kurtosis:                       2.070   Cond. No.                         3.03\n",
      "==============================================================================\n",
      "\n",
      "Warnings:\n",
      "[1] Standard Errors assume that the covariance matrix of the errors is correctly specified.\n"
     ]
    },
    {
     "data": {
      "image/png": "[encoded data removed]",
      "text/plain": [
       "<matplotlib.figure.Figure at 0x11413a750>"
      ]
     },
     "metadata": {},
     "output_type": "display_data"
    }
   ],
   "source": [
    "\n",
    "fit_m = np.zeros(n_experiments)\n",
    "fit_b = np.zeros(n_experiments)\n",
    "\n",
    "for i in range(n_experiments):\n",
    "    # run an experiment\n",
    "    x = np.linspace(x_min, x_max, 20) ;\n",
    "    y = f(x) + noise_scaling * np.random.normal(size=x.shape) ;\n",
    "\n",
    "    # Create a data frame and fit\n",
    "    data = pandas.DataFrame({'x': x, 'y': y}) ;\n",
    "    model = ols(\"y ~ x\", data).fit() ;\n",
    "\n",
    "    # print(model.summary())\n",
    "    plt.scatter(x,y,color=\"red\") ;\n",
    "\n",
    "    fit_m[i] = model.params.x\n",
    "    fit_b[i] = model.params.Intercept\n",
    "\n",
    "print model.summary()\n",
    "\n",
    "# the truth\n",
    "plt.plot([x_min,x_max],[f(x_min),f(x_max)], \"k-o\") ;\n",
    "\n",
    "for i in range(n_experiments) :\n",
    "    fm = g(fit_m[i],fit_b[i])\n",
    "    plt.plot([x_min,x_max],[fm(x_min),fm(x_max)], \":r\") ;\n"
   ]
  },
  {
   "cell_type": "markdown",
   "metadata": {},
   "source": [
    "### Analysis\n",
    "\n",
    "The fit slopes and intercepts are random variables. We look at their statistics, and add lines to the plot to outline their variation.\n"
   ]
  },
  {
   "cell_type": "code",
   "execution_count": 102,
   "metadata": {},
   "outputs": [
    {
     "name": "stdout",
     "output_type": "stream",
     "text": [
      "2.95265637301 0.133317700614 3.24287407965 2.81734844788\n",
      "-4.80909041235 0.497807932038 -4.18344418442 -5.53345854584\n"
     ]
    }
   ],
   "source": [
    "print fit_m.mean(), fit_m.std(), fit_m.max(), fit_m.min()\n",
    "print fit_b.mean(), fit_b.std(), fit_b.max(), fit_b.min()"
   ]
  },
  {
   "cell_type": "code",
   "execution_count": 103,
   "metadata": {},
   "outputs": [
    {
     "data": {
      "text/plain": [
       "[<matplotlib.lines.Line2D at 0x114b3c550>]"
      ]
     },
     "execution_count": 103,
     "metadata": {},
     "output_type": "execute_result"
    },
    {
     "data": {
      "image/png": "[encoded data removed]",
      "text/plain": [
       "<matplotlib.figure.Figure at 0x113bf8bd0>"
      ]
     },
     "metadata": {},
     "output_type": "display_data"
    }
   ],
   "source": [
    "# the truth\n",
    "plt.plot([x_min,x_max],[f(x_min),f(x_max)], \"k-o\") ;\n",
    "\n",
    "fm = g(fit_m.max(),fit_b.min())\n",
    "plt.plot([x_min,x_max],[fm(x_min),fm(x_max)],\"b--\")\n",
    "fm = g(fit_m.max(),fit_b.max())\n",
    "plt.plot([x_min,x_max],[fm(x_min),fm(x_max)],\"b:\")\n",
    "\n",
    "fm = g(fit_m.min(),fit_b.min())\n",
    "plt.plot([x_min,x_max],[fm(x_min),fm(x_max)],\"g:\")\n",
    "fm = g(fit_m.min(),fit_b.max())\n",
    "plt.plot([x_min,x_max],[fm(x_min),fm(x_max)],\"g--\")"
   ]
  },
  {
   "cell_type": "markdown",
   "metadata": {},
   "source": [
    "### Exercises\n",
    "\n",
    "* Extend to a second order model.\n",
    "* Show the distribution of slope intercepts.\n",
    "* Show the distribution of predicted values at the endpoints or at the origin.\n",
    "* Introduce error bias, and consider the resulting fit.\n"
   ]
  },
  {
   "cell_type": "code",
   "execution_count": null,
   "metadata": {
    "collapsed": true
   },
   "outputs": [],
   "source": []
  }
 ],
 "metadata": {
  "kernelspec": {
   "display_name": "Python 2",
   "language": "python",
   "name": "python2"
  },
  "language_info": {
   "codemirror_mode": {
    "name": "ipython",
    "version": 2
   },
   "file_extension": ".py",
   "mimetype": "text/x-python",
   "name": "python",
   "nbconvert_exporter": "python",
   "pygments_lexer": "ipython2",
   "version": "2.7.13"
  }
 },
 "nbformat": 4,
 "nbformat_minor": 2
}
