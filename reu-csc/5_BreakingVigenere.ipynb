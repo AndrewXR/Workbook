{
 "cells": [
  {
   "cell_type": "markdown",
   "metadata": {},
   "source": [
    "# Breaking Vigen&egrave;re\n",
    "\n",
    "__Burton Rosenberg__\n",
    "__May 2017__\n",
    "\n",
    "## Introduction"
   ]
  },
  {
   "cell_type": "markdown",
   "metadata": {},
   "source": [
    "A _cipher_ is a parameterized mapping between _plaintext_ and _ciphertext_, where the parameter is called the _secret key_. It usually is the pair: an encoding function $E_k(p)$ and a decoding function $D_k(c)$, where $k$ is the key, $p$ is the plaintext and $c$ is the ciphertext. The mappings have the property,\n",
    "* $\\forall p,k, D_k(E_k(p))=p$;\n",
    "* and from a collection of ciphertext/plaintext pairs, $(p_i, c_i)$ where $\\forall i, c_i=E_k(p_i)$, \"nothing\" should be learned about the key $k$.\n",
    "\n",
    "Ciphers tend to be mathematical functions. To work over text, which are strings in a alphabet $\\Sigma$, first the letters of $\\Sigma$ are mapped to elements in the integers mod $n$, $Z/nZ$, where $n$ is the size of the alphabet $\\Sigma$. By a mild abuse of notation, we will not explicitly show the mapping, and use plaintext elements characters as either letters in $\\Sigma$ or numbers in $Z/nZ$.\n",
    "\n",
    "A Shift Cipher is defined by the equation $E_k(\\sigma)=\\sigma+k \\bmod{n}$. These are broken by exploiting the a priori knowledge of the relative frequency of letters in a text. I.e., that the letters e and t are the most common. A _frequency count_ of the cipher text will identify the most common letters in the ciphertext, and from there the key $k$ can be most likely determined. In fact, the entire spectrum of the letter counts can be measured, by considering the count as a vector in $Z^n$ and taking the dot-product against a sample or shift sample of a known language. The larger the dot-product, the more the two distributions coincide.\n",
    "\n",
    "The Vigen&egrave;re Cipher is a slight complication of the Shift Cipher. The cipher was first described by Giovan Battista Bellaso in 1553 and was used in the American Civil War (1861-1865). Rather than a single character, the key is a sequence of letters, $k=k_1k_2\\ldots k_r$. The letters are used in a cyclical sequence to shift the text $p=p_1p_2\\ldots p_m$: \n",
    "\n",
    "$$\n",
    "E_{k}(p_i) = p_i + k_{i \\bmod r}\n",
    "$$\n",
    "\n"
   ]
  },
  {
   "cell_type": "markdown",
   "metadata": {},
   "source": [
    "\n",
    "## Incidence of Coincidence\n",
    "\n",
    "A simple frequency count of the resulting ciphertext does not yield clearly the keyword. However, the keyword can be recovered by a sample ciphertext by first determining $r$, then breaking the ciphertext into $r$ subsequences, each for a single shift. Then each of the $r$ are broken by frequency counting.\n",
    "\n",
    "To determine $r$, the cryptographer [Abraham Sinkov](https://en.wikipedia.org/wiki/Abraham_Sinkov) invented the [index of coincidence](https://en.wikipedia.org/wiki/Index_of_coincidence) (although it might have been his boss, [Willian Friedman](https://en.wikipedia.org/wiki/William_F._Friedman) ). The idea is that if two samples are drawn from the same non-uniform distribution, versus from two distinct non-uniform distributions, it is more likely that the two samples will be equal. Applying this to the Vigen&egrave;re, by sliding the ciphertext against itself, that is, comparing $c_i$ to $c_{i+j}$ for various $j$, when $j$ is a multiple of $r$ the coincidences as counted over various $i$ will spike.\n"
   ]
  },
  {
   "cell_type": "markdown",
   "metadata": {},
   "source": [
    "## Example in Code\n",
    "\n",
    "We will demonstrate the ciphers, frequency counting, and the index of coincidence with the example text, _Lincoln's Gettysburg Address_.\n",
    "\n",
    "First we do the import and read in the file to a single long string. We will discard all characters in the input text other than the letters a through z, and we should insure they will be in lowercase. It is our convention that plaintext be in all lowercase letters, and ciphertext be in all uppercase letters.\n"
   ]
  },
  {
   "cell_type": "code",
   "execution_count": 184,
   "metadata": {},
   "outputs": [
    {
     "name": "stdout",
     "output_type": "stream",
     "text": [
      "fourscoreandsevenyearsagoourfathersbroughtforthonthiscontinentanewnationconceivedinlibertyanddedicatedtothepropositionthatallmenarecreatedequalnowweareengagedinagreatcivilwartestingwhetherthatnationoranynationsoconceivedandsodedicatedcanlongendurewearemetonagreatbattlefieldofthatwarwehavecometodedicateaportionofthatfieldasafinalrestingplaceforthosewhoheregavetheirlivesthatthatnationmightliveitisaltogetherfittingandproperthatweshoulddothisbutinalargersensewecannotdedicatewecannotconsecratewecannothallowthisgroundthebravemenlivinganddeadwhostruggledherehaveconsecrateditfaraboveourpoorpowertoaddordetracttheworldwilllittlenotenorlongrememberwhatwesayherebutitcanneverforgetwhattheydidhereitisforusthelivingrathertobededicatedheretotheunfinishedworkwhichtheywhofoughtherehavethusfarsonoblyadvanceditisratherforustobeherededicatedtothegreattaskremainingbeforeusthatfromthesehonoreddeadwetakeincreaseddevotiontothatcauseforwhichtheygavethelastfullmeasureofdevotionthatweherehighlyresolvethatthesedeadshallnothavediedinvainthatthisnationundergodshallhaveanewbirthoffreedomandthatgovernmentofthepeoplebythepeopleforthepeopleshallnotperishfromtheearth\n"
     ]
    }
   ],
   "source": [
    "%matplotlib inline\n",
    "\n",
    "import numpy as np\n",
    "import matplotlib.pyplot as plt\n",
    "from matplotlib import pylab, mlab\n",
    "from pylab import *\n",
    "\n",
    "def readcharacters(filename):\n",
    "    f =open(filename,\"r\")\n",
    "    p = \"\" ;\n",
    "    for line in f:\n",
    "        for c in line :\n",
    "            if c.isalpha() :\n",
    "                p = p + c.lower() ;\n",
    "    f.close() ;\n",
    "    return p ;\n",
    "\n",
    "pt = readcharacters(\"gettysburg.txt\") ;\n",
    "print pt ;\n"
   ]
  },
  {
   "cell_type": "markdown",
   "metadata": {},
   "source": [
    "Here is the code to do a simple shift cipher, and a decode of the encoded text, to demonstrate the correctness."
   ]
  },
  {
   "cell_type": "code",
   "execution_count": 185,
   "metadata": {},
   "outputs": [
    {
     "name": "stdout",
     "output_type": "stream",
     "text": [
      "The cipher text is: IRXUVFRUHDQGVHYHQBHDUVDJRRXUIDWKHUVEURXJKWIRUWKRQWKLVFRQWLQHQWDQHZQDWLRQFRQFHLYHGLQOLEHUWBDQGGHGLFDWHGWRWKHSURSRVLWLRQWKDWDOOPHQDUHFUHDWHGHTXDOQRZZHDUHHQJDJHGLQDJUHDWFLYLOZDUWHVWLQJZKHWKHUWKDWQDWLRQRUDQBQDWLRQVRFRQFHLYHGDQGVRGHGLFDWHGFDQORQJHQGXUHZHDUHPHWRQDJUHDWEDWWOHILHOGRIWKDWZDUZHKDYHFRPHWRGHGLFDWHDSRUWLRQRIWKDWILHOGDVDILQDOUHVWLQJSODFHIRUWKRVHZKRKHUHJDYHWKHLUOLYHVWKDWWKDWQDWLRQPLJKWOLYHLWLVDOWRJHWKHUILWWLQJDQGSURSHUWKDWZHVKRXOGGRWKLVEXWLQDODUJHUVHQVHZHFDQQRWGHGLFDWHZHFDQQRWFRQVHFUDWHZHFDQQRWKDOORZWKLVJURXQGWKHEUDYHPHQOLYLQJDQGGHDGZKRVWUXJJOHGKHUHKDYHFRQVHFUDWHGLWIDUDERYHRXUSRRUSRZHUWRDGGRUGHWUDFWWKHZRUOGZLOOOLWWOHQRWHQRUORQJUHPHPEHUZKDWZHVDBKHUHEXWLWFDQQHYHUIRUJHWZKDWWKHBGLGKHUHLWLVIRUXVWKHOLYLQJUDWKHUWREHGHGLFDWHGKHUHWRWKHXQILQLVKHGZRUNZKLFKWKHBZKRIRXJKWKHUHKDYHWKXVIDUVRQREOBDGYDQFHGLWLVUDWKHUIRUXVWREHKHUHGHGLFDWHGWRWKHJUHDWWDVNUHPDLQLQJEHIRUHXVWKDWIURPWKHVHKRQRUHGGHDGZHWDNHLQFUHDVHGGHYRWLRQWRWKDWFDXVHIRUZKLFKWKHBJDYHWKHODVWIXOOPHDVXUHRIGHYRWLRQWKDWZHKHUHKLJKOBUHVROYHWKDWWKHVHGHDGVKDOOQRWKDYHGLHGLQYDLQWKDWWKLVQDWLRQXQGHUJRGVKDOOKDYHDQHZELUWKRIIUHHGRPDQGWKDWJRYHUQPHQWRIWKHSHRSOHEBWKHSHRSOHIRUWKHSHRSOHVKDOOQRWSHULVKIURPWKHHDUWK \n",
      "\n",
      "Decoding the cipher text is: fourscoreandsevenyearsagoourfathersbroughtforthonthiscontinentanewnationconceivedinlibertyanddedicatedtothepropositionthatallmenarecreatedequalnowweareengagedinagreatcivilwartestingwhetherthatnationoranynationsoconceivedandsodedicatedcanlongendurewearemetonagreatbattlefieldofthatwarwehavecometodedicateaportionofthatfieldasafinalrestingplaceforthosewhoheregavetheirlivesthatthatnationmightliveitisaltogetherfittingandproperthatweshoulddothisbutinalargersensewecannotdedicatewecannotconsecratewecannothallowthisgroundthebravemenlivinganddeadwhostruggledherehaveconsecrateditfaraboveourpoorpowertoaddordetracttheworldwilllittlenotenorlongrememberwhatwesayherebutitcanneverforgetwhattheydidhereitisforusthelivingrathertobededicatedheretotheunfinishedworkwhichtheywhofoughtherehavethusfarsonoblyadvanceditisratherforustobeherededicatedtothegreattaskremainingbeforeusthatfromthesehonoreddeadwetakeincreaseddevotiontothatcauseforwhichtheygavethelastfullmeasureofdevotionthatweherehighlyresolvethatthesedeadshallnothavediedinvainthatthisnationundergodshallhaveanewbirthoffreedomandthatgovernmentofthepeoplebythepeopleforthepeopleshallnotperishfromtheearth \n",
      "\n"
     ]
    }
   ],
   "source": [
    "def shiftencipher(p,k):\n",
    "    c = \"\" ;\n",
    "    for pi in p:\n",
    "        x = ord(pi)-ord('a');\n",
    "        y = (x + k) % 26 ;\n",
    "        c += chr(y+ord('A')) ;\n",
    "    return c ;\n",
    "\n",
    "def shiftdecipher(c,k):\n",
    "    p = \"\" ;\n",
    "    for ci in c:\n",
    "        y = ord(ci)-ord('A');\n",
    "        x = (y - k) % 26 ;\n",
    "        p += chr(x+ord('a')) ;\n",
    "    return p ;\n",
    "\n",
    "ct = shiftencipher(pt,3) ;\n",
    "ptx = shiftdecipher(ct,3) ;\n",
    "print \"The cipher text is:\", ct, \"\\n\" ;\n",
    "print \"Decoding the cipher text is:\", ptx, \"\\n\";\n"
   ]
  },
  {
   "cell_type": "markdown",
   "metadata": {},
   "source": [
    "Now we look at frequency counts. We frequency count both the original and the shift enciphered text. Note that the bar plots are simple shifts of each other."
   ]
  },
  {
   "cell_type": "code",
   "execution_count": 186,
   "metadata": {},
   "outputs": [
    {
     "data": {
      "image/png": "[encoded data removed]",
      "text/plain": [
       "<matplotlib.figure.Figure at 0x1183d9cd0>"
      ]
     },
     "metadata": {},
     "output_type": "display_data"
    }
   ],
   "source": [
    "\n",
    "def frequencycount(s):\n",
    "    count = [0 for i in range(26)] ;\n",
    "    for c in s :\n",
    "        i = ord(c.lower())-ord('a') ;\n",
    "        count[i] += 1 ;\n",
    "    return count ;\n",
    "    \n",
    "f, sp = plt.subplots(2) ;\n",
    "y = range(len(fc)) ;\n",
    "w = 0.4 ;\n",
    "fc = frequencycount(pt)\n",
    "sp[0].bar(y,fc,w, color=\"blue\")\n",
    "fc = frequencycount(ct)\n",
    "sp[1].bar(y,fc,w, color=\"red\")\n",
    "plt.show()"
   ]
  },
  {
   "cell_type": "markdown",
   "metadata": {},
   "source": [
    "We now implement and demonstate the Vigen&egrave;re Cipher."
   ]
  },
  {
   "cell_type": "code",
   "execution_count": 187,
   "metadata": {},
   "outputs": [
    {
     "name": "stdout",
     "output_type": "stream",
     "text": [
      "The cipher text is: QWVVJVMCMBRULCGMOCVTPDIHSFNPQIULVKQMZPYXARQWSXYHLEPJWTHLEQOIEMYYMXRRMGZVDSEVCTDFHZGJTJFVKRYYLEIUBALBFHKHRSMQVFIMDQUMFGRSIUECEKPVBVVVPPIUIUXOFIMRFPUPISIVGELOFHZGYRZFEKVGGQMARKRPAUMEZUSMULVKRSIURRMGZVPVRGWYIUMFGQZKPRTXGGMEEEWQZLFHZVYEMEGRGJZVHIEWSCMXIRKCXMUSETECMBXSTRETFJZXJOWGXYTRHISAVAYGMDSDXRZLFHZVYEMBTFKRTWOSWMFLBGMVEBLABJZGYWZFWKBLRXMETXDZZULFLCHPPLVKCRIWIKACTZMMMXQEPBXKAYEVBXZHLXQHLKEGGMJXZLYWBPKVMFPZGMKMGYOBRUIPZXFVKAYEEFWYHSWLESKAGDJVXZGYWISKVKQPVTINXALVOSKWCOQDEKXUPKBREHRNWOWVVPLBFAVVYYVPXYTJWWXXYBQRZPYEWRSMCVROCXMOPZOGYOBRUWCLLXLFLRCCHKCXBSMSIYTTPKPRJXACIUIUBRQISESHTPWVVGHMCXPAVKRZIEHFKBPBSETMRSMXSIEBHQMPCBRETFRFMCYWSPFGECMNIDUCCEIEKPCDIZLVKCMCUMKVYYVFZVKDZZHIKPFLBULVRBTLIIIXGEQTJFKSDBIICBTTVHVRMFPZUSSXBPLJGRMCOPFVVMMEPFYEYGYQTLVWUZZLAYBASBIIPPFZNPYXARSMSIYTTPBIYJYYCAPRFUJJIEZRGAPLJXZLPLBIIIYMCCTXFUCSMSIUXBTKBXVWRZBIIXKCLBUEJDPPUBMEBLRJFJFKCFAULRMDCWNXYXQPPPRFKCOLFEUPCEILIZGACMBWVWBPDPXZHLEWULRMALCTIWHPHPJGYMFPGHEMXRSMMEJMDFTMQVTQFZFSWWCGWUMFGRSIUAVACCMIMXAJJZFWFETPBIEKMFPAFHVTBDPBPCGMEPBZVWGPLJRMTGYBIEKMFTAOEKBMYCOHVKEZLTLREJSIWIRGCHJJVKAMQNSIVWMXIOHKAYEOPZVKLXMOXFYRSMQIFIJPJZXYXNPWQPVYMCBIIGXMATFWYTJWVPXGXPTAIJIHKEPFIRKRS \n",
      "\n",
      "Decoding the cipher text is: fourscoreandsevenyearsagoourfathersbroughtforthonthiscontinentanewnationconceivedinlibertyanddedicatedtothepropositionthatallmenarecreatedequalnowweareengagedinagreatcivilwartestingwhetherthatnationoranynationsoconceivedandsodedicatedcanlongendurewearemetonagreatbattlefieldofthatwarwehavecometodedicateaportionofthatfieldasafinalrestingplaceforthosewhoheregavetheirlivesthatthatnationmightliveitisaltogetherfittingandproperthatweshoulddothisbutinalargersensewecannotdedicatewecannotconsecratewecannothallowthisgroundthebravemenlivinganddeadwhostruggledherehaveconsecrateditfaraboveourpoorpowertoaddordetracttheworldwilllittlenotenorlongrememberwhatwesayherebutitcanneverforgetwhattheydidhereitisforusthelivingrathertobededicatedheretotheunfinishedworkwhichtheywhofoughtherehavethusfarsonoblyadvanceditisratherforustobeherededicatedtothegreattaskremainingbeforeusthatfromthesehonoreddeadwetakeincreaseddevotiontothatcauseforwhichtheygavethelastfullmeasureofdevotionthatweherehighlyresolvethatthesedeadshallnothavediedinvainthatthisnationundergodshallhaveanewbirthoffreedomandthatgovernmentofthepeoplebythepeopleforthepeopleshallnotperishfromtheearth \n",
      "\n"
     ]
    }
   ],
   "source": [
    "def vigenereencipher(p,k):\n",
    "    c = \"\" ;\n",
    "    i = 0 ;\n",
    "    for pi in p:\n",
    "        x = ord(pi)-ord('a');\n",
    "        j = ord(k[i].lower()) - ord('a') ;\n",
    "        y = (x + j) % 26 ;\n",
    "        c += chr(y+ord('A')) ;\n",
    "        i += 1\n",
    "        if i>=len(k):\n",
    "            i = 0 ;\n",
    "    return c ;\n",
    "\n",
    "def vigeneredecipher(c,k):\n",
    "    p = \"\" ;\n",
    "    i = 0 ;\n",
    "    for ci in c:\n",
    "        y = ord(ci)-ord('A');\n",
    "        j = ord(k[i].lower()) - ord('a') ;\n",
    "        x = (y - j) % 26 ;\n",
    "        p += chr(x+ord('a')) ;\n",
    "        i += 1 ;\n",
    "        if i>=len(k):\n",
    "            i = 0 ;\n",
    "    return p ;\n",
    "\n",
    "pt = readcharacters(\"gettysburg.txt\") ;\n",
    "ct = vigenereencipher(pt,\"liberty\") ;\n",
    "ptx = vigeneredecipher(ct,\"liberty\") ;\n",
    "print \"The cipher text is:\", ct, \"\\n\" ;\n",
    "print \"Decoding the cipher text is:\", ptx, \"\\n\";\n"
   ]
  },
  {
   "cell_type": "markdown",
   "metadata": {},
   "source": [
    "Frequency counting the result of the Vigen&egrave;re Cipher shows that the encipherment does somewhat uniformize the ciphertext frequency count."
   ]
  },
  {
   "cell_type": "code",
   "execution_count": 188,
   "metadata": {},
   "outputs": [
    {
     "data": {
      "image/png": "[encoded data removed]",
      "text/plain": [
       "<matplotlib.figure.Figure at 0x118f97d50>"
      ]
     },
     "metadata": {},
     "output_type": "display_data"
    }
   ],
   "source": [
    "f, sp = plt.subplots(2) ;\n",
    "y = range(len(fc)) ;\n",
    "w = 0.4 ;\n",
    "fc = frequencycount(pt)\n",
    "sp[0].bar(y,fc,w, color=\"blue\")\n",
    "fc = frequencycount(ct)\n",
    "sp[1].bar(y,fc,w, color=\"red\")\n",
    "plt.show()"
   ]
  },
  {
   "cell_type": "markdown",
   "metadata": {},
   "source": [
    "However, the Index of Coincidence can find the periodicity in the encipherment. The graph shows the relative frequency of collisions between the ciphertext and itself, for different amounts of shift in the indices when doing the comparison. Count between the peaks and see if you can identify a repeating interval."
   ]
  },
  {
   "cell_type": "code",
   "execution_count": 189,
   "metadata": {},
   "outputs": [
    {
     "data": {
      "image/png": "[encoded data removed]",
      "text/plain": [
       "<matplotlib.figure.Figure at 0x118a14e50>"
      ]
     },
     "metadata": {},
     "output_type": "display_data"
    }
   ],
   "source": [
    "def encodearray(p):\n",
    "    l = [] ;\n",
    "    for c in p :\n",
    "        l.append(ord(c.lower())-ord('a')) ;\n",
    "    return np.array(l) ;\n",
    "\n",
    "def calcioc(p,n) :\n",
    "    ca = encodearray(p) ;\n",
    "    ioc = [] ;\n",
    "    for i in range(n):\n",
    "        ioc.append(np.sum(ca==np.roll(ca,i))) ;\n",
    "    ioc[0]=0;\n",
    "    return ioc\n",
    "\n",
    "pt = readcharacters(\"gettysburg.txt\") ;\n",
    "ct = vigenereencipher(pt,\"liberty\") ;\n",
    "ioc = calcioc(ct,45) ;\n",
    "plt.plot(range(len(ioc)),ioc,\"x--\") ;\n",
    "\n"
   ]
  },
  {
   "cell_type": "markdown",
   "metadata": {},
   "source": [
    "The peaks occur at intervals of seven, so the code word must be seven letters in length. We can now take every seventh letter from the ciphertext, with offsets 0 through 6, and apply the cryptoanalysis of a shift cipher to the resulting subtext. In the following, I have gone through and shifted the frequency count of the plaintext (in blue) to match each of the frequency counts of the first subtext, at shifts 0, 1 and 2 (in red). What do these numbers say about the keyword?"
   ]
  },
  {
   "cell_type": "code",
   "execution_count": 202,
   "metadata": {},
   "outputs": [
    {
     "data": {
      "image/png": "[encoded data removed]",
      "text/plain": [
       "<matplotlib.figure.Figure at 0x1167f7f50>"
      ]
     },
     "metadata": {},
     "output_type": "display_data"
    }
   ],
   "source": [
    "peaks = 7 ;\n",
    "w = 0.4 ;\n",
    "f, sp = plt.subplots(6) ;\n",
    "\n",
    "# these are the shift amounts to make the f.c.'s coincide\n",
    "ra = [11,8,1] ;\n",
    "\n",
    "ptfc = frequencycount(pt) ;\n",
    "\n",
    "for i in range(3) :\n",
    "    sp[2*i].bar(range(len(ptfc)) ,roll(ptfc,ra[i]),w, color=\"blue\") \n",
    "    fc = frequencycount(ct[i::peaks]) ;\n",
    "    sp[2*i+1].bar(range(len(fc)),fc,w, color=\"red\") ;\n",
    "    \n"
   ]
  },
  {
   "cell_type": "markdown",
   "metadata": {},
   "source": [
    "Using dot product, it should be possible to automatically align these distributions. As described, this uses a ciphertext, plaintext pair to recover the key. It is not necessary to have a known plaintext, as a sample of sufficiently similar distribution, e.g. any other english language text, and work also for the plaintext. \n",
    "\n",
    "On might also consider how to identify the peaks in the trace of the index of coincidence.\n",
    "\n"
   ]
  },
  {
   "cell_type": "code",
   "execution_count": 1,
   "metadata": {},
   "outputs": [
    {
     "name": "stdout",
     "output_type": "stream",
     "text": [
      "My Test.ipynb         Untitled4.ipynb       linear.py\r\n",
      "MyFirstNotebook.ipynb Untitled5.ipynb       mynotebook.ipynb\r\n",
      "Untitled.ipynb        Untitled6.ipynb       simpleplot.py\r\n",
      "Untitled1.ipynb       boom.py               test.ipynb\r\n",
      "Untitled2.ipynb       gettysburg.txt        untitled.txt\r\n",
      "Untitled3.ipynb       \u001b[31mhelloworld.py\u001b[m\u001b[m         vigenere.ipynb\r\n"
     ]
    }
   ],
   "source": []
  },
  {
   "cell_type": "code",
   "execution_count": null,
   "metadata": {
    "collapsed": true
   },
   "outputs": [],
   "source": []
  }
 ],
 "metadata": {
  "kernelspec": {
   "display_name": "Python 2",
   "language": "python",
   "name": "python2"
  },
  "language_info": {
   "codemirror_mode": {
    "name": "ipython",
    "version": 2
   },
   "file_extension": ".py",
   "mimetype": "text/x-python",
   "name": "python",
   "nbconvert_exporter": "python",
   "pygments_lexer": "ipython2",
   "version": "2.7.13"
  }
 },
 "nbformat": 4,
 "nbformat_minor": 2
}
