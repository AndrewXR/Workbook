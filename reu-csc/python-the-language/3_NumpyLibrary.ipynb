{
 "cells": [
  {
   "cell_type": "markdown",
   "metadata": {},
   "source": [
    "# The Numpy Library\n",
    "\n",
    "**Burton Rosenberg, May 2017**\n",
    "\n",
    "Python is being used increasingly as a language for scientific computing because of its qualities as a programing language and because of community developed libraries extending the langauges abilities. Some of these libraries are written in C to truely extend the way the language represents and manipulates data.\n",
    "\n",
    "Numby introduces the datatype _ndarray_, a multi-dimensional array of numbers. The ndarray improves on the list for efficiency and the collection methods it supports. That includes the notion of _universal functions_ and _broadcasting_. These concepts and methods make it very intuitive to us arrays for scientific computation. \n",
    "\n",
    "Numpy is one element of a larger library for Pythonic scientific computing called Scipy. The entire scipy library is described at [scipy.org](https://www.scipy.org/docs.html). One might also look at the [scipy-lectures](http://www.scipy-lectures.org/index.html) tutoral."
   ]
  },
  {
   "cell_type": "markdown",
   "metadata": {},
   "source": [
    "## Libraries\n",
    "\n",
    "Libraries in Python include packages and modules. Modules are files containing Python code that is made available for use with the _import statement_. Packages are collections of modules, represented as entire directory trees of modules. An import statement is of the form  import-as or from-import-as.\n",
    "\n",
    "Import statements must first find the module in the system enviornment, then make the contents available by populating the local namespace. A simple _import module_ command finds a file with the same name as the module name and populates a local namespace of the same name as the module name. If one wishes the local namespace name to be different, use _import module as name-. \n",
    "\n",
    "Here we import the numpy library."
   ]
  },
  {
   "cell_type": "code",
   "execution_count": 198,
   "metadata": {
    "collapsed": true
   },
   "outputs": [],
   "source": [
    "import numpy as np"
   ]
  },
  {
   "cell_type": "markdown",
   "metadata": {},
   "source": [
    "The from form of the import statement, _from module import name as name_, operates by first looking up the module, then introducing namespaces one by one, according to the trailing name-as clauses.\n",
    "\n",
    "#### Search path\n",
    "\n",
    "Names are found by searching the system path. This path can be accessed using the path list of strings in the sys module.\n"
   ]
  },
  {
   "cell_type": "code",
   "execution_count": 3,
   "metadata": {
    "collapsed": false
   },
   "outputs": [
    {
     "name": "stdout",
     "output_type": "stream",
     "text": [
      "type(sys): <type 'module'>\n",
      "type(sys.path) <type 'list'>\n",
      "type(sys.path[0]): <type 'str'>\n",
      "\n",
      "sys.path: ['', '/home/graph/burt/anaconda2/lib/python27.zip', '/home/graph/burt/anaconda2/lib/python2.7', '/home/graph/burt/anaconda2/lib/python2.7/plat-linux2', '/home/graph/burt/anaconda2/lib/python2.7/lib-tk', '/home/graph/burt/anaconda2/lib/python2.7/lib-old', '/home/graph/burt/anaconda2/lib/python2.7/lib-dynload', '/home/graph/burt/anaconda2/lib/python2.7/site-packages', '/home/graph/burt/anaconda2/lib/python2.7/site-packages/Sphinx-1.5.1-py2.7.egg', '/home/graph/burt/anaconda2/lib/python2.7/site-packages/setuptools-27.2.0-py2.7.egg', '/home/graph/burt/anaconda2/lib/python2.7/site-packages/IPython/extensions', '/srv/home/graph/burt/.ipython']\n"
     ]
    }
   ],
   "source": [
    "#import sys\n",
    "import sys\n",
    "print \"type(sys):\", type(sys)\n",
    "print \"type(sys.path)\", type(sys.path)\n",
    "print \"type(sys.path[0]):\", type(sys.path[0])\n",
    "print\n",
    "print \"sys.path:\", sys.path\n",
    "\n"
   ]
  },
  {
   "cell_type": "markdown",
   "metadata": {},
   "source": [
    "#### Packages\n",
    "\n",
    "_Packages_ are directory-like spaces of modules. Imports of packages retain the directory hierarchy by dot-delimited names in the python namespace. For instance, the _from matplotlib import pyplot as plt_ command brings in matplotlib.pyplot, but binds it to the simple name plt."
   ]
  },
  {
   "cell_type": "markdown",
   "metadata": {},
   "source": [
    "## Numpy arrays\n",
    "\n",
    "The ndarray type provided by the numby library is an efficient and flexible array for scientific computing. It contains only numbers or other arrays in a rectangular fashion. An ndarray is represented in memory as a block of memory, an indexing function (the array's shape) and an base type (some sort of number). The indexing function gives the number of dimensions, the size along each dimension, and a _stride_ indicating offsets between successive elements in a dimension. "
   ]
  },
  {
   "cell_type": "code",
   "execution_count": 4,
   "metadata": {
    "collapsed": false
   },
   "outputs": [
    {
     "name": "stdout",
     "output_type": "stream",
     "text": [
      "na: [ 1.  2.  3.]\n",
      "nb: [ 0.  0.  0.]\n",
      "nc: [[ 1.  1.]\n",
      " [ 1.  1.]\n",
      " [ 1.  1.]]\n",
      "0 <type 'numpy.ndarray'>\n",
      "1 <type 'object'>\n",
      "We hold these truths to be self-evident: True\n"
     ]
    }
   ],
   "source": [
    "import numpy as np\n",
    "import inspect\n",
    "\n",
    "na  = np.array([1,2,3],dtype=\"float\")\n",
    "nb= np.zeros(3)\n",
    "nc = np.ones((3,2))\n",
    "print \"na:\",na\n",
    "print \"nb:\", nb\n",
    "print \"nc:\", nc\n",
    "                \n",
    "for i,t in enumerate(inspect.getmro(type(na))):\n",
    "    print i,t\n",
    "\n",
    "# advanced\n",
    "\n",
    "nia = np.eye(3)\n",
    "nib = np.diag(np.ones(3))\n",
    "print \"We hold these truths to be self-evident:\", np.array_equal(nia,nib)"
   ]
  },
  {
   "cell_type": "markdown",
   "metadata": {},
   "source": [
    "#### element-wise operations, masking-indexing and array functions\n",
    "\n",
    "Numby arrays support:\n",
    "* element-wise operations such as addition, multiplication and logical operations; \n",
    "* indexing operations based on masking;\n",
    "* some common functions involving arrays\n",
    "\n",
    "See the scipy.org numpy-1.12.0 [reference](https://docs.scipy.org/doc/numpy-1.12.0/reference/routines.html)"
   ]
  },
  {
   "cell_type": "code",
   "execution_count": 7,
   "metadata": {
    "collapsed": false
   },
   "outputs": [
    {
     "name": "stdout",
     "output_type": "stream",
     "text": [
      "We hold these truths to be self-evident: True\n",
      "The big ones: [3 4 5]\n",
      "We hold these truths to be self-evident: True\n",
      "We hold these truths to be self-evident: True\n",
      "The shape of a: (3, 4)\n",
      "The rows of a:\n",
      "\t0 [0 1 2 3]\n",
      "\t1 [4 5 6 7]\n",
      "\t2 [ 8  9 10 11]\n",
      "A vector in inner products: [14 38 62]\n",
      "We hold these truths to be self-evident: True\n"
     ]
    }
   ],
   "source": [
    "import numpy as np\n",
    "\n",
    "a = np.ones(5)\n",
    "c = np.array([1,2,3,4,5])\n",
    "print \"We hold these truths to be self-evident:\", c.sum()/len(c)==c.mean()\n",
    "print \"The big ones:\", c[c > (a+a)]\n",
    "print \"We hold these truths to be self-evident:\", c.dot(a) == np.sum(a[:]*c[:])\n",
    "print \"We hold these truths to be self-evident:\", np.linalg.norm(c)**2 == np.inner(c,c)\n",
    "\n",
    "# note that dot extends to matrix multiplication, but inner \n",
    "# dereduces an array by one dimension, by distributing the inner product\n",
    "# over the last dimension\n",
    "\n",
    "a = np.arange(12).reshape((3,4))\n",
    "print \"The shape of a:\", a.shape\n",
    "print \"The rows of a:\"\n",
    "\n",
    "for i,r in enumerate(a):\n",
    "    print '\\t',i,r\n",
    "print \"A vector in inner products:\", np.inner(a,np.arange(4))\n",
    "print \"We hold these truths to be self-evident:\", np.array_equal(\n",
    "        np.dot(a,np.arange(4)),\n",
    "        np.inner(a,np.arange(4)))\n"
   ]
  },
  {
   "cell_type": "markdown",
   "metadata": {},
   "source": [
    "#### Broadcasting\n",
    "\n",
    "When the shape of two arrays are broadcast-compatible, the can be extended by broadcasting to distribute multiple copies of one array over the other. In simple terms this includes such operations as _2*c_ where c is an array, since 2 will be broadcast over each element in c (it can also be that _times_ is rewritten as a universal function).\n",
    "\n",
    "Broadcast-compatible arrays are those whose shapes either agree on any dimension, or one dimension is 1, or they differ in dimensions, in which case the missing dimensions are considers 1's.\n",
    "\n"
   ]
  },
  {
   "cell_type": "code",
   "execution_count": 202,
   "metadata": {
    "collapsed": false
   },
   "outputs": [
    {
     "name": "stdout",
     "output_type": "stream",
     "text": [
      "We hold these truths to be self-evident: True\n"
     ]
    }
   ],
   "source": [
    "a = np.arange(12).reshape(3,4)\n",
    "print \"We hold these truths to be self-evident:\", np.array_equal(\n",
    "    # broadcast a 1x4 over a 3x4\n",
    "    a+np.ones(4),\n",
    "    # elementwise addition of two 3x4's\n",
    "    a+np.ones(12).reshape(3,4))\n"
   ]
  },
  {
   "cell_type": "markdown",
   "metadata": {},
   "source": [
    "#### Ufuncs\n",
    "\n",
    "Universal functions are distributed elementwise over each element in an array. This includes some operators, and other standard functions that have been elevated to become ufuncs.\n",
    "    "
   ]
  },
  {
   "cell_type": "code",
   "execution_count": 206,
   "metadata": {
    "collapsed": false
   },
   "outputs": [
    {
     "name": "stdout",
     "output_type": "stream",
     "text": [
      "We hold these truths to be self-evident: True\n",
      "Vector dominance ordering: True\n"
     ]
    }
   ],
   "source": [
    "\n",
    "# times-by-2 and add-1 are show broadcasting\n",
    "# elementwise modulo and lessthan are ufunc'ed\n",
    "c = np.array([1,2,3,4,5])\n",
    "print \"We hold these truths to be self-evident:\", np.all(2*c%2==0)\n",
    "print \"Vector dominance ordering:\", np.all(c<(c+1))\n"
   ]
  },
  {
   "cell_type": "code",
   "execution_count": 205,
   "metadata": {
    "collapsed": false
   },
   "outputs": [
    {
     "data": {
      "image/png": "[encoded data removed]",
      "text/plain": [
       "<matplotlib.figure.Figure at 0x10f82bb90>"
      ]
     },
     "metadata": {},
     "output_type": "display_data"
    }
   ],
   "source": [
    "%matplotlib inline\n",
    "import matplotlib.pyplot as plt\n",
    "\n",
    "x = np.linspace(0,2*np.pi,100)  # ndarray by a linear spacing within a range\n",
    "s = np.sin(x) # universal function\n",
    "c = np.cos(x)\n",
    "plt.plot(x,s) # matlab-like plotting library\n",
    "plt.plot(x,c)\n",
    "plt.xlabel('Angle (rad)')\n",
    "plt.legend(['sine','cosine'])\n",
    "plt.show()"
   ]
  },
  {
   "cell_type": "code",
   "execution_count": null,
   "metadata": {
    "collapsed": true
   },
   "outputs": [],
   "source": []
  }
 ],
 "metadata": {
  "kernelspec": {
   "display_name": "Python 2",
   "language": "python",
   "name": "python2"
  },
  "language_info": {
   "codemirror_mode": {
    "name": "ipython",
    "version": 2
   },
   "file_extension": ".py",
   "mimetype": "text/x-python",
   "name": "python",
   "nbconvert_exporter": "python",
   "pygments_lexer": "ipython2",
   "version": "2.7.13"
  }
 },
 "nbformat": 4,
 "nbformat_minor": 2
}
